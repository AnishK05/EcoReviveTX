{
  "nbformat": 4,
  "nbformat_minor": 0,
  "metadata": {
    "colab": {
      "provenance": []
    },
    "kernelspec": {
      "name": "python3",
      "display_name": "Python 3"
    },
    "language_info": {
      "name": "python"
    }
  },
  "cells": [
    {
      "cell_type": "code",
      "source": [
        "import pandas as pd\n",
        "\n",
        "# Read the CSV file with the correct encoding\n",
        "input_file = \"/content/Tian_et_al_dataset.csv\"\n",
        "output_file = \"/content/Tian_et_al_dataset_utf8.csv\"\n",
        "\n",
        "# Assuming the file is encoded in ISO-8859-1 (Latin-1), adjust if necessary\n",
        "df = pd.read_csv(input_file, encoding='ISO-8859-1')\n",
        "\n",
        "# Save the file with UTF-8 encoding\n",
        "df.to_csv(output_file, index=False, encoding='utf-8')\n",
        "\n",
        "print(\"File successfully converted to UTF-8 encoding.\")"
      ],
      "metadata": {
        "id": "DMfzK89lEOq0"
      },
      "execution_count": null,
      "outputs": []
    },
    {
      "cell_type": "code",
      "execution_count": null,
      "metadata": {
        "id": "l6JBPwN_DYuO"
      },
      "outputs": [],
      "source": [
        "import pandas as pd\n",
        "import time\n",
        "\n",
        "# Load your dataset\n",
        "file_path = 'Tian_et_al_dataset_utf8.csv'\n",
        "df = pd.read_csv(file_path)\n",
        "\n",
        "def classify_climate(latitude):\n",
        "    if 23.5 <= latitude <= 35:  # Subtropical climates, mostly found between these latitudes\n",
        "        return \"Subtropical\"\n",
        "    elif 35 < latitude <= 50:  # Temperate climates, typically found between 35°N and 50°N\n",
        "        return \"Temperate\"\n",
        "    elif 15 <= latitude < 23.5:  # Tropical climates, found just above and below the equator\n",
        "        return \"Tropical\"\n",
        "    elif latitude < 15:  # Equatorial and tropical climates closer to the equator\n",
        "        return \"Equatorial\"\n",
        "    elif 50 < latitude <= 66.5:  # Boreal climates, found closer to the polar regions\n",
        "        return \"Boreal\"\n",
        "    elif latitude > 66.5:  # Polar climates, in the Arctic and Antarctic circles\n",
        "        return \"Polar\"\n",
        "    else:\n",
        "        return \"Unknown\"\n",
        "\n",
        "# Apply the classify_climate function to each row in the DataFrame\n",
        "df['Climate'] = df['Latitude(o)'].apply(classify_climate)\n",
        "\n",
        "# Save the updated DataFrame to a new CSV file\n",
        "updated_file_path = 'Tian_et_al_dataset_with_climate.csv'\n",
        "df.to_csv(updated_file_path, index=False, encoding='utf-8')\n",
        "\n",
        "print(\"Updated dataset saved successfully!\")"
      ]
    }
  ]
}