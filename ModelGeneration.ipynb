{
 "cells": [
  {
   "cell_type": "code",
   "execution_count": 6,
   "metadata": {},
   "outputs": [],
   "source": [
    "import pandas as pd\n",
    "from sklearn.model_selection import train_test_split\n",
    "from sklearn.ensemble import RandomForestRegressor, GradientBoostingRegressor\n",
    "from sklearn.linear_model import LinearRegression\n",
    "from sklearn.svm import SVR\n",
    "from sklearn.metrics import mean_squared_error, mean_absolute_error, r2_score\n",
    "import numpy as np\n",
    "import joblib\n",
    "import flask"
   ]
  },
  {
   "cell_type": "code",
   "execution_count": 4,
   "metadata": {},
   "outputs": [
    {
     "name": "stdout",
     "output_type": "stream",
     "text": [
      "1.5.2\n",
      "1.24.0\n",
      "1.2.0\n",
      "1.2.1\n",
      "2.2.2\n"
     ]
    }
   ],
   "source": [
    "print(pd.__version__)\n",
    "print(np.__version__)\n",
    "print(joblib.__version__)\n",
    "print(sklearn.__version__)\n",
    "print(flask.__version__)"
   ]
  },
  {
   "cell_type": "code",
   "execution_count": 2,
   "metadata": {},
   "outputs": [],
   "source": [
    "# Load dataset\n",
    "df = pd.read_csv('EcologicalRestoration_FinalDataset.csv')"
   ]
  },
  {
   "cell_type": "code",
   "execution_count": 3,
   "metadata": {},
   "outputs": [],
   "source": [
    "# Drop rows with NaN values in key columns\n",
    "df_cleaned = df.dropna(subset=['Climate', 'Ecosystem', 'Latitude', 'Longitude', 'MAT (C)', 'MAP(mm)', 'Soil depth (cm)', 'Ambient SOC(g kg-1)', 'Restoration time (years)', 'lnRR.SOC'])"
   ]
  },
  {
   "cell_type": "code",
   "execution_count": 4,
   "metadata": {},
   "outputs": [],
   "source": [
    "# Define filtering functions\n",
    "def filter_data(df, climate, ecosystem):\n",
    "    return df[(df['Climate'] == climate) & (df['Ecosystem'] == ecosystem)]\n",
    "\n",
    "# Create filtered datasets\n",
    "df_subtropical_forest = filter_data(df_cleaned, 'Subtropical', 'Forest')\n",
    "df_subtropical_non_forest = filter_data(df_cleaned, 'Subtropical', 'Non-forest')\n",
    "df_temperate_forest = filter_data(df_cleaned, 'Temperate', 'Forest')\n",
    "df_temperate_non_forest = filter_data(df_cleaned, 'Temperate', 'Non-forest')\n",
    "df_tropical_forest = filter_data(df_cleaned, 'Tropical', 'Forest')\n",
    "df_tropical_non_forest = filter_data(df_cleaned, 'Tropical', 'Non-forest')"
   ]
  },
  {
   "cell_type": "code",
   "execution_count": 5,
   "metadata": {},
   "outputs": [],
   "source": [
    "# Define baseline model evaluation function\n",
    "def evaluate_baseline(data, target_variable):\n",
    "    if data.shape[0] == 0:\n",
    "        print(f\"No data available for baseline evaluation of {target_variable}.\")\n",
    "        return\n",
    "\n",
    "    y = data[target_variable]\n",
    "    mean_value = y.mean()\n",
    "    y_pred_baseline = np.full_like(y, mean_value)\n",
    "    mse_baseline = mean_squared_error(y, y_pred_baseline)\n",
    "    return mse_baseline"
   ]
  },
  {
   "cell_type": "code",
   "execution_count": 6,
   "metadata": {},
   "outputs": [],
   "source": [
    "# Define model training and evaluation function for single target\n",
    "def train_and_evaluate_models(data, target_variable, model_name, category_name, baseline_mse):\n",
    "    if data.shape[0] == 0:\n",
    "        print(f\"No data available for {category_name} - {target_variable} - {model_name}. Skipping.\")\n",
    "        return\n",
    "\n",
    "    X = data[['Latitude', 'Longitude', 'MAT (C)', 'MAP(mm)', 'Soil depth (cm)', 'Ambient SOC(g kg-1)']]\n",
    "    y = data[target_variable]\n",
    "    \n",
    "    X_train, X_test, y_train, y_test = train_test_split(X, y, test_size=0.2, random_state=42)\n",
    "    \n",
    "    # Train and evaluate other models\n",
    "    models = {\n",
    "        'Random Forest': RandomForestRegressor(n_estimators=100, random_state=42),\n",
    "        'Linear Regression': LinearRegression(),\n",
    "        'Gradient Boosting': GradientBoostingRegressor(n_estimators=100, random_state=42),\n",
    "        'Support Vector Regression': SVR(kernel='rbf')\n",
    "    }\n",
    "    \n",
    "    model = models[model_name]\n",
    "    model.fit(X_train, y_train)\n",
    "    y_pred = model.predict(X_test)\n",
    "    \n",
    "    mse = mean_squared_error(y_test, y_pred)\n",
    "    mae = mean_absolute_error(y_test, y_pred)\n",
    "    r2 = r2_score(y_test, y_pred)\n",
    "    \n",
    "    print(f'{category_name} - {target_variable} - {model_name} - MSE: {mse:.4f}, MAE: {mae:.4f}, R²: {r2:.4f}, Baseline MSE: {baseline_mse:.4f}')\n",
    "    \n",
    "    # Save model\n",
    "    joblib.dump(model, f'{model_name.replace(\" \", \"_\")}_{target_variable}_{category_name}.pkl')"
   ]
  },
  {
   "cell_type": "code",
   "execution_count": 7,
   "metadata": {},
   "outputs": [],
   "source": [
    "# Define dataset categories and train models\n",
    "categories = {\n",
    "    'Subtropical Forest': df_subtropical_forest,\n",
    "    'Subtropical Non-Forest': df_subtropical_non_forest,\n",
    "    'Temperate Forest': df_temperate_forest,\n",
    "    'Temperate Non-Forest': df_temperate_non_forest,\n",
    "    'Tropical Forest': df_tropical_forest,\n",
    "    'Tropical Non-Forest': df_tropical_non_forest\n",
    "}\n",
    "\n",
    "target_variables = ['Restoration time (years)', 'lnRR.SOC']\n",
    "models = ['Random Forest', 'Linear Regression', 'Gradient Boosting', 'Support Vector Regression']"
   ]
  },
  {
   "cell_type": "code",
   "execution_count": 8,
   "metadata": {},
   "outputs": [
    {
     "name": "stdout",
     "output_type": "stream",
     "text": [
      "Baseline Model for Subtropical Forest - Restoration time (years) - MSE: 184.9201\n",
      "Baseline Model for Subtropical Non-Forest - Restoration time (years) - MSE: 43.4756\n",
      "Baseline Model for Temperate Forest - Restoration time (years) - MSE: 158.2584\n",
      "Baseline Model for Temperate Non-Forest - Restoration time (years) - MSE: 173.9965\n",
      "No data available for baseline evaluation of Restoration time (years).\n",
      "No data available for baseline evaluation of Restoration time (years).\n",
      "Baseline Model for Subtropical Forest - lnRR.SOC - MSE: 0.3489\n",
      "Baseline Model for Subtropical Non-Forest - lnRR.SOC - MSE: 0.1728\n",
      "Baseline Model for Temperate Forest - lnRR.SOC - MSE: 0.3370\n",
      "Baseline Model for Temperate Non-Forest - lnRR.SOC - MSE: 0.3007\n",
      "No data available for baseline evaluation of lnRR.SOC.\n",
      "No data available for baseline evaluation of lnRR.SOC.\n"
     ]
    }
   ],
   "source": [
    "# Print baseline model results once for each target variable\n",
    "baseline_mses = {}\n",
    "for target_variable in target_variables:\n",
    "    for category_name, data in categories.items():\n",
    "        mse_baseline = evaluate_baseline(data, target_variable)\n",
    "        if mse_baseline is not None:\n",
    "            baseline_mses[(target_variable, category_name)] = mse_baseline\n",
    "            print(f'Baseline Model for {category_name} - {target_variable} - MSE: {mse_baseline:.4f}')"
   ]
  },
  {
   "cell_type": "code",
   "execution_count": 9,
   "metadata": {},
   "outputs": [
    {
     "name": "stdout",
     "output_type": "stream",
     "text": [
      "Subtropical Forest - Restoration time (years) - Random Forest - MSE: 204.7567, MAE: 8.3083, R²: 0.0543, Baseline MSE: 184.9201\n",
      "Subtropical Forest - Restoration time (years) - Linear Regression - MSE: 168.1148, MAE: 8.2299, R²: 0.2235, Baseline MSE: 184.9201\n",
      "Subtropical Forest - Restoration time (years) - Gradient Boosting - MSE: 195.9080, MAE: 7.9795, R²: 0.0952, Baseline MSE: 184.9201\n",
      "Subtropical Forest - Restoration time (years) - Support Vector Regression - MSE: 200.9181, MAE: 7.6212, R²: 0.0720, Baseline MSE: 184.9201\n",
      "Subtropical Forest - lnRR.SOC - Random Forest - MSE: 0.1200, MAE: 0.2682, R²: 0.6102, Baseline MSE: 0.3489\n",
      "Subtropical Forest - lnRR.SOC - Linear Regression - MSE: 0.2541, MAE: 0.4174, R²: 0.1745, Baseline MSE: 0.3489\n",
      "Subtropical Forest - lnRR.SOC - Gradient Boosting - MSE: 0.1232, MAE: 0.2718, R²: 0.5996, Baseline MSE: 0.3489\n",
      "Subtropical Forest - lnRR.SOC - Support Vector Regression - MSE: 0.3126, MAE: 0.4388, R²: -0.0155, Baseline MSE: 0.3489\n",
      "Subtropical Non-Forest - Restoration time (years) - Random Forest - MSE: 36.1708, MAE: 4.3920, R²: 0.0491, Baseline MSE: 43.4756\n",
      "Subtropical Non-Forest - Restoration time (years) - Linear Regression - MSE: 40.6029, MAE: 4.9596, R²: -0.0674, Baseline MSE: 43.4756\n",
      "Subtropical Non-Forest - Restoration time (years) - Gradient Boosting - MSE: 36.2664, MAE: 4.0517, R²: 0.0466, Baseline MSE: 43.4756\n",
      "Subtropical Non-Forest - Restoration time (years) - Support Vector Regression - MSE: 36.2742, MAE: 4.5291, R²: 0.0464, Baseline MSE: 43.4756\n",
      "Subtropical Non-Forest - lnRR.SOC - Random Forest - MSE: 0.1266, MAE: 0.2697, R²: 0.3071, Baseline MSE: 0.1728\n",
      "Subtropical Non-Forest - lnRR.SOC - Linear Regression - MSE: 0.1254, MAE: 0.3087, R²: 0.3134, Baseline MSE: 0.1728\n",
      "Subtropical Non-Forest - lnRR.SOC - Gradient Boosting - MSE: 0.1432, MAE: 0.2908, R²: 0.2163, Baseline MSE: 0.1728\n",
      "Subtropical Non-Forest - lnRR.SOC - Support Vector Regression - MSE: 0.1767, MAE: 0.3552, R²: 0.0327, Baseline MSE: 0.1728\n",
      "Temperate Forest - Restoration time (years) - Random Forest - MSE: 105.1950, MAE: 6.7543, R²: 0.4885, Baseline MSE: 158.2584\n",
      "Temperate Forest - Restoration time (years) - Linear Regression - MSE: 178.0629, MAE: 9.6583, R²: 0.1342, Baseline MSE: 158.2584\n",
      "Temperate Forest - Restoration time (years) - Gradient Boosting - MSE: 88.2571, MAE: 6.5737, R²: 0.5708, Baseline MSE: 158.2584\n",
      "Temperate Forest - Restoration time (years) - Support Vector Regression - MSE: 205.7028, MAE: 10.3588, R²: -0.0002, Baseline MSE: 158.2584\n",
      "Temperate Forest - lnRR.SOC - Random Forest - MSE: 0.2057, MAE: 0.3295, R²: 0.4484, Baseline MSE: 0.3370\n",
      "Temperate Forest - lnRR.SOC - Linear Regression - MSE: 0.2902, MAE: 0.4001, R²: 0.2217, Baseline MSE: 0.3370\n",
      "Temperate Forest - lnRR.SOC - Gradient Boosting - MSE: 0.1790, MAE: 0.3153, R²: 0.5198, Baseline MSE: 0.3370\n",
      "Temperate Forest - lnRR.SOC - Support Vector Regression - MSE: 0.3155, MAE: 0.4184, R²: 0.1539, Baseline MSE: 0.3370\n",
      "Temperate Non-Forest - Restoration time (years) - Random Forest - MSE: 142.4498, MAE: 8.2645, R²: 0.1372, Baseline MSE: 173.9965\n",
      "Temperate Non-Forest - Restoration time (years) - Linear Regression - MSE: 149.2934, MAE: 9.3451, R²: 0.0957, Baseline MSE: 173.9965\n",
      "Temperate Non-Forest - Restoration time (years) - Gradient Boosting - MSE: 117.6469, MAE: 7.8727, R²: 0.2874, Baseline MSE: 173.9965\n",
      "Temperate Non-Forest - Restoration time (years) - Support Vector Regression - MSE: 156.5785, MAE: 9.3692, R²: 0.0516, Baseline MSE: 173.9965\n",
      "Temperate Non-Forest - lnRR.SOC - Random Forest - MSE: 0.1709, MAE: 0.2914, R²: 0.5094, Baseline MSE: 0.3007\n",
      "Temperate Non-Forest - lnRR.SOC - Linear Regression - MSE: 0.2856, MAE: 0.3955, R²: 0.1803, Baseline MSE: 0.3007\n",
      "Temperate Non-Forest - lnRR.SOC - Gradient Boosting - MSE: 0.1718, MAE: 0.2946, R²: 0.5070, Baseline MSE: 0.3007\n",
      "Temperate Non-Forest - lnRR.SOC - Support Vector Regression - MSE: 0.3162, MAE: 0.4018, R²: 0.0925, Baseline MSE: 0.3007\n",
      "No data available for Tropical Forest - Restoration time (years) - Random Forest. Skipping.\n",
      "No data available for Tropical Forest - Restoration time (years) - Linear Regression. Skipping.\n",
      "No data available for Tropical Forest - Restoration time (years) - Gradient Boosting. Skipping.\n",
      "No data available for Tropical Forest - Restoration time (years) - Support Vector Regression. Skipping.\n",
      "No data available for Tropical Forest - lnRR.SOC - Random Forest. Skipping.\n",
      "No data available for Tropical Forest - lnRR.SOC - Linear Regression. Skipping.\n",
      "No data available for Tropical Forest - lnRR.SOC - Gradient Boosting. Skipping.\n",
      "No data available for Tropical Forest - lnRR.SOC - Support Vector Regression. Skipping.\n",
      "No data available for Tropical Non-Forest - Restoration time (years) - Random Forest. Skipping.\n",
      "No data available for Tropical Non-Forest - Restoration time (years) - Linear Regression. Skipping.\n",
      "No data available for Tropical Non-Forest - Restoration time (years) - Gradient Boosting. Skipping.\n",
      "No data available for Tropical Non-Forest - Restoration time (years) - Support Vector Regression. Skipping.\n",
      "No data available for Tropical Non-Forest - lnRR.SOC - Random Forest. Skipping.\n",
      "No data available for Tropical Non-Forest - lnRR.SOC - Linear Regression. Skipping.\n",
      "No data available for Tropical Non-Forest - lnRR.SOC - Gradient Boosting. Skipping.\n",
      "No data available for Tropical Non-Forest - lnRR.SOC - Support Vector Regression. Skipping.\n"
     ]
    }
   ],
   "source": [
    "# Train and evaluate models\n",
    "for category_name, data in categories.items():\n",
    "    for target_variable in target_variables:\n",
    "        baseline_mse = baseline_mses.get((target_variable, category_name))\n",
    "        for model_name in models:\n",
    "            train_and_evaluate_models(data, target_variable, model_name, category_name, baseline_mse)"
   ]
  }
 ],
 "metadata": {
  "kernelspec": {
   "display_name": "base",
   "language": "python",
   "name": "python3"
  },
  "language_info": {
   "codemirror_mode": {
    "name": "ipython",
    "version": 3
   },
   "file_extension": ".py",
   "mimetype": "text/x-python",
   "name": "python",
   "nbconvert_exporter": "python",
   "pygments_lexer": "ipython3",
   "version": "3.10.9"
  }
 },
 "nbformat": 4,
 "nbformat_minor": 2
}
